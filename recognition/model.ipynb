{
 "cells": [
  {
   "cell_type": "markdown",
   "metadata": {},
   "source": [
    "### Import libraries"
   ]
  },
  {
   "cell_type": "code",
   "execution_count": null,
   "metadata": {},
   "outputs": [],
   "source": [
    "import os\n",
    "os.chdir(\"\")\n",
    "print(\"Current working dir : %s\" % os.getcwd())\n",
    "\n",
    "import warnings\n",
    "warnings.filterwarnings('ignore')\n",
    "\n",
    "import pandas as pd\n",
    "import numpy as np\n",
    "import matplotlib.pyplot as plt\n",
    "import sklearn as sk"
   ]
  },
  {
   "cell_type": "markdown",
   "metadata": {},
   "source": [
    "### Train models of each user for each day using multiple algorithms"
   ]
  },
  {
   "cell_type": "code",
   "execution_count": null,
   "metadata": {},
   "outputs": [],
   "source": [
    "# define variables\n",
    "days = [13,14,15,16,17,22]\n",
    "users = [94,95,97,98,99,100,101,102,103,104,105]\n",
    "accuracy = []\n",
    "lst_dict = []\n",
    "\n",
    "# train by each user\n",
    "for user in users:\n",
    "    \n",
    "    print(\"-------------------\", user ,\"-----------------------------\")   \n",
    "    \n",
    "    # prepare data\n",
    "    data = pd.read_csv(\"data/train_data_\"+str(user)+\".csv\");\n",
    "    data.time = pd.to_datetime(data.time)\n",
    "    data['day'] = data.time.dt.day\n",
    "    data = data.reset_index()\n",
    "    data = data.dropna()\n",
    "     \n",
    "    # train by each day\n",
    "    for day in days:\n",
    "        \n",
    "        df = data[data.day==day]\n",
    "        \n",
    "        if (df.empty == False) and (df.act.count() > 10):\n",
    "    \n",
    "            X = df.iloc[:,2:14]\n",
    "            Y = df.act\n",
    "            \n",
    "            validation_size = 0.2\n",
    "            seed = 42\n",
    "            \n",
    "            X_train, X_validation, Y_train, Y_validation = sk.model_selection.train_test_split(X, Y, test_size=validation_size, random_state=seed, shuffle =True)\n",
    "\n",
    "            models = []\n",
    "            models.append(('LDA', LinearDiscriminantAnalysis()))\n",
    "            models.append(('KNN', KNeighborsClassifier()))\n",
    "            models.append(('CART', DecisionTreeClassifier()))\n",
    "            models.append(('NB', GaussianNB()))\n",
    "            models.append(('SVM', OneVsRestClassifier(SVC(gamma='scale'))))\n",
    "            models.append((\"RandomForestClassifier\",OneVsRestClassifier(RandomForestClassifier(n_estimators = 10, criterion = 'entropy', random_state = seed))))\n",
    "            results = []\n",
    "            names = []\n",
    "            \n",
    "            for name, model in models:\n",
    "                kfold = sk.model_selection.StratifiedKFold(n_splits=5, random_state=seed)\n",
    "                y_pred = cross_val_predict(model, X, Y, cv = kfold)\n",
    "                precision,recall,fscore,support = sk.metrics.precision_recall_fscore_support(Y, y_pred,average='weighted')\n",
    "                lst_dict.append((name,user,day,precision,recall,fscore))\n",
    "\n",
    "    COLUMN_NAMES=['model','user','day','precision','recall','fscore']\n",
    "    \n",
    "    # export results\n",
    "    df = pd.DataFrame(data = lst_dict,  columns=COLUMN_NAMES)  \n",
    "    export_csv = df.to_csv ('data/accuracy.csv', index = None, header=True) \n"
   ]
  }
 ],
 "metadata": {
  "kernelspec": {
   "display_name": "Python 3",
   "language": "python",
   "name": "python3"
  },
  "language_info": {
   "codemirror_mode": {
    "name": "ipython",
    "version": 3
   },
   "file_extension": ".py",
   "mimetype": "text/x-python",
   "name": "python",
   "nbconvert_exporter": "python",
   "pygments_lexer": "ipython3",
   "version": "3.7.4"
  }
 },
 "nbformat": 4,
 "nbformat_minor": 2
}
