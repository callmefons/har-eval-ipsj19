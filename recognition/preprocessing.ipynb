{
 "cells": [
  {
   "cell_type": "markdown",
   "metadata": {},
   "source": [
    "### Import libraries"
   ]
  },
  {
   "cell_type": "code",
   "execution_count": null,
   "metadata": {},
   "outputs": [],
   "source": [
    "import os\n",
    "os.chdir(\"/\")\n",
    "print(\"Current working dir : %s\" % os.getcwd())\n",
    "\n",
    "import pandas as pd"
   ]
  },
  {
   "cell_type": "markdown",
   "metadata": {},
   "source": [
    "### Preprocess sensor data"
   ]
  },
  {
   "cell_type": "code",
   "execution_count": null,
   "metadata": {},
   "outputs": [],
   "source": [
    "df = pd.read_csv(\"data/results-20190524-181131.csv\")"
   ]
  },
  {
   "cell_type": "code",
   "execution_count": null,
   "metadata": {},
   "outputs": [],
   "source": [
    "# setup experimental date\n",
    "date = '2019-05-13'\n",
    "df = df[df.time >= date]\n",
    "df = df[df.time <'2019-05-23']\n",
    "df = df.drop_duplicates(\"time\")\n",
    "df = df.sort_values(\"time\")\n",
    "df.time = pd.to_datetime(df.time)"
   ]
  },
  {
   "cell_type": "code",
   "execution_count": null,
   "metadata": {},
   "outputs": [],
   "source": [
    "df.head()"
   ]
  },
  {
   "cell_type": "markdown",
   "metadata": {},
   "source": [
    "### Preprocess activity data"
   ]
  },
  {
   "cell_type": "code",
   "execution_count": null,
   "metadata": {},
   "outputs": [],
   "source": [
    "label = pd.read_csv(\"data/activities.csv\")"
   ]
  },
  {
   "cell_type": "code",
   "execution_count": null,
   "metadata": {},
   "outputs": [],
   "source": [
    "label.head()"
   ]
  },
  {
   "cell_type": "code",
   "execution_count": null,
   "metadata": {},
   "outputs": [],
   "source": [
    "users = [94, 95, 96, 97, 98, 99, 100, 101, 102, 103, 104, 105] \n",
    "\n",
    "# try to select only one user\n",
    "user_id = 96"
   ]
  },
  {
   "cell_type": "code",
   "execution_count": null,
   "metadata": {},
   "outputs": [],
   "source": [
    "# setup experimental date\n",
    "label.start = pd.to_datetime(label.start)\n",
    "label.finish = pd.to_datetime(label.finish)\n",
    "label = label[label['user_id'] == user_id]\n",
    "label = label.dropna(subset=['date'])\n",
    "label = label[label[\"date\"] != \"2019-05-18\"]\n",
    "label = label[label[\"date\"] != \"2019-05-19\"]\n",
    "label = label[label[\"date\"] != \"2019-05-20\"]\n",
    "label = label[label[\"date\"] != \"2019-05-21\"]\n",
    "label.head()"
   ]
  },
  {
   "cell_type": "markdown",
   "metadata": {},
   "source": [
    "### Map features and labels"
   ]
  },
  {
   "cell_type": "code",
   "execution_count": null,
   "metadata": {},
   "outputs": [],
   "source": [
    "mean_x = []\n",
    "max_x = [] \n",
    "min_x = [] \n",
    "sd_x = [] \n",
    "mean_y = [] \n",
    "max_y = [] \n",
    "min_y = [] \n",
    "sd_y = [] \n",
    "mean_z = [] \n",
    "max_z = [] \n",
    "min_z = [] \n",
    "sd_z = []\n",
    "acts = []\n",
    "time_start = []\n",
    "time_finish = []\n",
    "timestamp = []\n",
    "\n",
    "for row in df.itertuples():\n",
    "    \n",
    "    time = row.time\n",
    "    for row_label in label.itertuples():\n",
    "        startTime = row_label.start\n",
    "        finishTime = row_label.finish\n",
    "        \n",
    "        if time >= startTime and time <= finishTime:\n",
    "\n",
    "            mean_x.append(row.mean_x)\n",
    "            max_x.append(row.max_x)\n",
    "            min_x.append(row.min_x)\n",
    "            sd_x.append(row.sd_x)\n",
    "            \n",
    "            mean_y.append(row.mean_y)\n",
    "            max_y.append(row.max_y)\n",
    "            min_y.append(row.min_y)\n",
    "            sd_y.append(row.sd_y)\n",
    "            \n",
    "            mean_z.append(row.mean_z)\n",
    "            max_z.append(row.max_z)\n",
    "            min_z.append(row.min_z)\n",
    "            sd_z.append(row.sd_z)\n",
    "            \n",
    "            acts.append(row_label.activity_type)\n",
    "            timestamp.append(time)\n",
    "            time_start.append(startTime)\n",
    "            time_finish.append(finishTime)      "
   ]
  },
  {
   "cell_type": "code",
   "execution_count": null,
   "metadata": {},
   "outputs": [],
   "source": [
    "d = {'mean_x': mean_x, 'max_x': max_x, 'min_x': min_x, 'sd_x': sd_x, \n",
    "     'mean_y': mean_y, 'max_y': max_y, 'min_y': min_y, 'sd_y': sd_y, \n",
    "     'mean_z': mean_z, 'max_z': max_z, 'min_z': min_z, 'sd_z': sd_z,\n",
    "     'act': acts, 'time': timestamp, 'time0_start': time_start, 'time1_finish': time_finish}\n",
    "\n",
    "train_data = pd.DataFrame(data=d)"
   ]
  },
  {
   "cell_type": "code",
   "execution_count": null,
   "metadata": {},
   "outputs": [],
   "source": [
    "train_data.head()"
   ]
  },
  {
   "cell_type": "markdown",
   "metadata": {},
   "source": [
    "### Export results"
   ]
  },
  {
   "cell_type": "code",
   "execution_count": null,
   "metadata": {},
   "outputs": [],
   "source": [
    "train_data.to_csv(\"train_data_\"+str(user_id)+\".csv\");"
   ]
  }
 ],
 "metadata": {
  "kernelspec": {
   "display_name": "Python 3",
   "language": "python",
   "name": "python3"
  },
  "language_info": {
   "codemirror_mode": {
    "name": "ipython",
    "version": 3
   },
   "file_extension": ".py",
   "mimetype": "text/x-python",
   "name": "python",
   "nbconvert_exporter": "python",
   "pygments_lexer": "ipython3",
   "version": "3.7.4"
  }
 },
 "nbformat": 4,
 "nbformat_minor": 1
}
